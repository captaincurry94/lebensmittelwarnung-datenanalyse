{
 "cells": [
  {
   "cell_type": "markdown",
   "metadata": {},
   "source": [
    "# WORK IN PROGRESS \n",
    "# Scrape and analyze data from lebensmittelwarnung.de"
   ]
  },
  {
   "cell_type": "code",
   "execution_count": 1,
   "metadata": {},
   "outputs": [],
   "source": [
    "import requests\n",
    "import json\n",
    "import time\n",
    "import pandas as pd\n",
    "from bs4 import BeautifulSoup\n",
    "\n",
    "import matplotlib.pyplot as plt"
   ]
  },
  {
   "cell_type": "code",
   "execution_count": 2,
   "metadata": {},
   "outputs": [],
   "source": [
    "domain = \"https://www.lebensmittelwarnung.de\"\n",
    "entries = 1000000 #no of entries you want to scrape. Set an unreasonable high number to get all possible results\n",
    "url = f\"{domain}/bvl-lmw-de/liste/lebensmittel/deutschlandweit/{entries}/0\" #url to scrape"
   ]
  },
  {
   "cell_type": "markdown",
   "metadata": {},
   "source": [
    "## Get the data from the website"
   ]
  },
  {
   "cell_type": "code",
   "execution_count": 3,
   "metadata": {},
   "outputs": [],
   "source": [
    "results = requests.get(url).text\n",
    "DOMdocument = BeautifulSoup(results, \"html.parser\")"
   ]
  },
  {
   "cell_type": "code",
   "execution_count": 88,
   "metadata": {},
   "outputs": [],
   "source": [
    "warnings = []\n",
    "for warning in DOMdocument.find_all('div','lmw-warnungsliste'): #iterate through all listed warnings and store data to list\n",
    "    try:\n",
    "        warningtype = warning.find('div','warnungstyp').text.replace('\\n',' ').replace(\"Warnungstyp:\",'')\n",
    "    except:\n",
    "        warningtype = ''\n",
    "    \n",
    "    try:\n",
    "        producer = warning.find('div','hersteller').text.replace('\\n',' ').replace('Hersteller','').replace('Inverkehrbringer','').replace(':','').replace('(','').replace(')','')\n",
    "    except:\n",
    "        producer = ''\n",
    "    \n",
    "    try:\n",
    "        product = warning.find('div','produktbezeichnung').text.replace('\\n','').replace('Produktbezeichnung:','')\n",
    "    except:\n",
    "        product = ''\n",
    "    \n",
    "    try: \n",
    "        date = warning.find('div','datum').text.replace('\\n','').replace('Datum:','')\n",
    "    except:\n",
    "        date = ''\n",
    "    \n",
    "    try: \n",
    "        thumbnail = domain + warning.find('div','produktbild').find('img')[\"src\"]\n",
    "    except:\n",
    "        thumbnail = ''\n",
    "    \n",
    "    try: \n",
    "        source = warning.find('div','quelle').text.replace('\\n','').replace('Quelle:','')\n",
    "    except:\n",
    "        source = ''\n",
    "        \n",
    "    try: \n",
    "        reason = warning.find('div','grundderwarnung').text.replace('\\n','').replace('Grund der Warnung:','')\n",
    "    except:\n",
    "        reason = ''\n",
    "    \n",
    "    try: \n",
    "        state = warning.find('div','betroffeneLaender').text.replace('\\n','').replace('betroffene Länder (alphabetisch):','')\n",
    "    except:\n",
    "        state = ''\n",
    "    \n",
    "    try: \n",
    "        detail_link = domain + warning.find(\"div\",\"detailsButton\").find(\"a\")[\"href\"]\n",
    "    except:\n",
    "        detail_link = ''\n",
    "    \n",
    "    warnings.append([warningtype,date,producer,product,reason,state,source,thumbnail,detail_link])\n",
    "    "
   ]
  },
  {
   "cell_type": "markdown",
   "metadata": {},
   "source": [
    "## Store the data as a csv for later use"
   ]
  },
  {
   "cell_type": "code",
   "execution_count": 89,
   "metadata": {},
   "outputs": [],
   "source": [
    "df = pd.DataFrame(warnings,columns=[\"warningtype\",\"date\",\"producer\",\"product\",\"reason\",\"state\",\"source\",\"thumbnail\",\"detail_link\"])\n",
    "df.to_csv('lebensmittelwarnungen.csv',index=False)"
   ]
  },
  {
   "cell_type": "markdown",
   "metadata": {},
   "source": [
    "The further data analysis can be found in the notebook [Data_Analysis.ipynb](Data_Analysis.ipynb)"
   ]
  }
 ],
 "metadata": {
  "kernelspec": {
   "display_name": "Python 3",
   "language": "python",
   "name": "python3"
  },
  "language_info": {
   "codemirror_mode": {
    "name": "ipython",
    "version": 3
   },
   "file_extension": ".py",
   "mimetype": "text/x-python",
   "name": "python",
   "nbconvert_exporter": "python",
   "pygments_lexer": "ipython3",
   "version": "3.8.3"
  }
 },
 "nbformat": 4,
 "nbformat_minor": 4
}
